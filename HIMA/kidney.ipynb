{
 "cells": [
  {
   "cell_type": "code",
   "execution_count": 44,
   "metadata": {},
   "outputs": [],
   "source": [
    "import pandas as pd\n",
    "import numpy as np\n",
    "import matplotlib.pyplot as plt\n",
    "heart_data = pd.read_csv('../heart_data.csv')"
   ]
  },
  {
   "cell_type": "code",
   "execution_count": 45,
   "metadata": {},
   "outputs": [],
   "source": [
    "heart_data['HeartDisease'] =  heart_data['HeartDisease']\n",
    "Kidney = heart_data['KidneyDisease']\n",
    "KidneyDisease = heart_data[heart_data['KidneyDisease']=='Yes']\n",
    "dont_have_KidneyDisease = heart_data[heart_data['KidneyDisease']=='No']\n"
   ]
  },
  {
   "cell_type": "code",
   "execution_count": 46,
   "metadata": {},
   "outputs": [
    {
     "data": {
      "text/plain": [
       "count     319795\n",
       "unique         2\n",
       "top           No\n",
       "freq      308016\n",
       "Name: KidneyDisease, dtype: object"
      ]
     },
     "execution_count": 46,
     "metadata": {},
     "output_type": "execute_result"
    }
   ],
   "source": [
    "Kidney.describe()"
   ]
  },
  {
   "cell_type": "code",
   "execution_count": null,
   "metadata": {},
   "outputs": [],
   "source": [
    "KidneyDisease.describe()"
   ]
  },
  {
   "cell_type": "code",
   "execution_count": 52,
   "metadata": {},
   "outputs": [
    {
     "name": "stdout",
     "output_type": "stream",
     "text": [
      "Percentage of kidney patients that don't have heart disease 70.66813821207234\n",
      "Percentage of kidney patients that have heart disease 29.331861787927668\n"
     ]
    }
   ],
   "source": [
    "print(\"Percentage of kidney patients that don't have heart disease\", 100 * KidneyDisease[KidneyDisease[\"HeartDisease\"] == \"No\"].size / KidneyDisease.size )\n",
    "print(\"Percentage of kidney patients that have heart disease\", 100 * KidneyDisease[KidneyDisease[\"HeartDisease\"] == \"Yes\"].size / KidneyDisease.size )"
   ]
  },
  {
   "cell_type": "code",
   "execution_count": 55,
   "metadata": {},
   "outputs": [
    {
     "data": {
      "text/html": [
       "<div>\n",
       "<style scoped>\n",
       "    .dataframe tbody tr th:only-of-type {\n",
       "        vertical-align: middle;\n",
       "    }\n",
       "\n",
       "    .dataframe tbody tr th {\n",
       "        vertical-align: top;\n",
       "    }\n",
       "\n",
       "    .dataframe thead th {\n",
       "        text-align: right;\n",
       "    }\n",
       "</style>\n",
       "<table border=\"1\" class=\"dataframe\">\n",
       "  <thead>\n",
       "    <tr style=\"text-align: right;\">\n",
       "      <th></th>\n",
       "      <th>BMI</th>\n",
       "      <th>PhysicalHealth</th>\n",
       "      <th>MentalHealth</th>\n",
       "      <th>SleepTime</th>\n",
       "    </tr>\n",
       "  </thead>\n",
       "  <tbody>\n",
       "    <tr>\n",
       "      <th>count</th>\n",
       "      <td>308016.000000</td>\n",
       "      <td>308016.000000</td>\n",
       "      <td>308016.000000</td>\n",
       "      <td>308016.000000</td>\n",
       "    </tr>\n",
       "    <tr>\n",
       "      <th>mean</th>\n",
       "      <td>28.262296</td>\n",
       "      <td>3.150619</td>\n",
       "      <td>3.840369</td>\n",
       "      <td>7.095323</td>\n",
       "    </tr>\n",
       "    <tr>\n",
       "      <th>std</th>\n",
       "      <td>6.311631</td>\n",
       "      <td>7.667615</td>\n",
       "      <td>7.879449</td>\n",
       "      <td>1.416586</td>\n",
       "    </tr>\n",
       "    <tr>\n",
       "      <th>min</th>\n",
       "      <td>12.020000</td>\n",
       "      <td>0.000000</td>\n",
       "      <td>0.000000</td>\n",
       "      <td>1.000000</td>\n",
       "    </tr>\n",
       "    <tr>\n",
       "      <th>25%</th>\n",
       "      <td>23.960000</td>\n",
       "      <td>0.000000</td>\n",
       "      <td>0.000000</td>\n",
       "      <td>6.000000</td>\n",
       "    </tr>\n",
       "    <tr>\n",
       "      <th>50%</th>\n",
       "      <td>27.270000</td>\n",
       "      <td>0.000000</td>\n",
       "      <td>0.000000</td>\n",
       "      <td>7.000000</td>\n",
       "    </tr>\n",
       "    <tr>\n",
       "      <th>75%</th>\n",
       "      <td>31.320000</td>\n",
       "      <td>1.000000</td>\n",
       "      <td>3.000000</td>\n",
       "      <td>8.000000</td>\n",
       "    </tr>\n",
       "    <tr>\n",
       "      <th>max</th>\n",
       "      <td>94.850000</td>\n",
       "      <td>30.000000</td>\n",
       "      <td>30.000000</td>\n",
       "      <td>24.000000</td>\n",
       "    </tr>\n",
       "  </tbody>\n",
       "</table>\n",
       "</div>"
      ],
      "text/plain": [
       "                 BMI  PhysicalHealth   MentalHealth      SleepTime\n",
       "count  308016.000000   308016.000000  308016.000000  308016.000000\n",
       "mean       28.262296        3.150619       3.840369       7.095323\n",
       "std         6.311631        7.667615       7.879449       1.416586\n",
       "min        12.020000        0.000000       0.000000       1.000000\n",
       "25%        23.960000        0.000000       0.000000       6.000000\n",
       "50%        27.270000        0.000000       0.000000       7.000000\n",
       "75%        31.320000        1.000000       3.000000       8.000000\n",
       "max        94.850000       30.000000      30.000000      24.000000"
      ]
     },
     "execution_count": 55,
     "metadata": {},
     "output_type": "execute_result"
    }
   ],
   "source": [
    "dont_have_KidneyDisease.describe()"
   ]
  },
  {
   "cell_type": "code",
   "execution_count": 57,
   "metadata": {},
   "outputs": [
    {
     "name": "stdout",
     "output_type": "stream",
     "text": [
      "Percentage of non kidney that don't have heart disease 92.2348189704431\n",
      "Percentage of non kidney that have heart disease 7.765181029556906\n"
     ]
    }
   ],
   "source": [
    "print(\"Percentage of non kidney that don't have heart disease\", 100 * dont_have_KidneyDisease[dont_have_KidneyDisease[\"HeartDisease\"] == \"No\"].size / dont_have_KidneyDisease.size )\n",
    "print(\"Percentage of non kidney that have heart disease\", 100 * dont_have_KidneyDisease[dont_have_KidneyDisease[\"HeartDisease\"] == \"Yes\"].size / dont_have_KidneyDisease.size )"
   ]
  },
  {
   "cell_type": "code",
   "execution_count": 49,
   "metadata": {},
   "outputs": [
    {
     "data": {
      "text/plain": [
       "<AxesSubplot: >"
      ]
     },
     "execution_count": 49,
     "metadata": {},
     "output_type": "execute_result"
    },
    {
     "data": {
      "image/png": "[encoded data removed]",
      "text/plain": [
       "<Figure size 640x480 with 1 Axes>"
      ]
     },
     "metadata": {},
     "output_type": "display_data"
    }
   ],
   "source": [
    "KidneyDisease['HeartDisease'].hist()"
   ]
  },
  {
   "cell_type": "code",
   "execution_count": 63,
   "metadata": {},
   "outputs": [
    {
     "data": {
      "text/plain": [
       "<AxesSubplot: >"
      ]
     },
     "execution_count": 63,
     "metadata": {},
     "output_type": "execute_result"
    },
    {
     "data": {
      "image/png": "[encoded data removed]",
      "text/plain": [
       "<Figure size 640x480 with 1 Axes>"
      ]
     },
     "metadata": {},
     "output_type": "display_data"
    }
   ],
   "source": [
    "dont_have_KidneyDisease['HeartDisease'].hist()"
   ]
  }
 ],
 "metadata": {
  "kernelspec": {
   "display_name": "Python 3",
   "language": "python",
   "name": "python3"
  },
  "language_info": {
   "codemirror_mode": {
    "name": "ipython",
    "version": 3
   },
   "file_extension": ".py",
   "mimetype": "text/x-python",
   "name": "python",
   "nbconvert_exporter": "python",
   "pygments_lexer": "ipython3",
   "version": "3.11.0"
  },
  "orig_nbformat": 4,
  "vscode": {
   "interpreter": {
    "hash": "9328ff5b7eb661541ab3edfa5748581be07fc9da53f0de3fac60dfd343d1146b"
   }
  }
 },
 "nbformat": 4,
 "nbformat_minor": 2
}
