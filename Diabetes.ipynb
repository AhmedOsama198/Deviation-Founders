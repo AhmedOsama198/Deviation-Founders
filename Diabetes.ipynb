{
 "cells": [
  {
   "cell_type": "code",
   "execution_count": 19,
   "id": "50eddcda",
   "metadata": {},
   "outputs": [
    {
     "name": "stdout",
     "output_type": "stream",
     "text": [
      "  HeartDisease    BMI Smoking AlcoholDrinking Stroke  PhysicalHealth  \\\n",
      "0           No  16.60     Yes              No     No             3.0   \n",
      "1           No  20.34      No              No    Yes             0.0   \n",
      "2           No  26.58     Yes              No     No            20.0   \n",
      "3           No  24.21      No              No     No             0.0   \n",
      "4           No  23.71      No              No     No            28.0   \n",
      "\n",
      "   MentalHealth DiffWalking     Sex  AgeCategory   Race Diabetic  \\\n",
      "0          30.0          No  Female        55-59  White      Yes   \n",
      "1           0.0          No  Female  80 or older  White       No   \n",
      "2          30.0          No    Male        65-69  White      Yes   \n",
      "3           0.0          No  Female        75-79  White       No   \n",
      "4           0.0         Yes  Female        40-44  White       No   \n",
      "\n",
      "  PhysicalActivity  GenHealth  SleepTime Asthma KidneyDisease SkinCancer  \n",
      "0              Yes  Very good        5.0    Yes            No        Yes  \n",
      "1              Yes  Very good        7.0     No            No         No  \n",
      "2              Yes       Fair        8.0    Yes            No         No  \n",
      "3               No       Good        6.0     No            No        Yes  \n",
      "4              Yes  Very good        8.0     No            No         No  \n"
     ]
    }
   ],
   "source": [
    "import pandas as pd\n",
    "import numpy as np\n",
    "import matplotlib.pyplot as plt\n",
    "cardio_data_2 = pd.read_csv('heart_data.csv')\n",
    "print(cardio_data_2.head())"
   ]
  },
  {
   "cell_type": "code",
   "execution_count": 20,
   "id": "34be506a",
   "metadata": {},
   "outputs": [],
   "source": [
    "cardio_data_2['HeartDisease'] =  cardio_data_2['HeartDisease'].map({'Yes': 1, 'No': 0})\n",
    "diabetes = cardio_data_2[cardio_data_2['Diabetic']=='Yes']\n",
    "non_diabetes = cardio_data_2[cardio_data_2['Diabetic']=='No']\n",
    "diabetes.describe()\n",
    "diabetes_stdev = diabetes['HeartDisease'].std()\n"
   ]
  },
  {
   "cell_type": "code",
   "execution_count": 21,
   "id": "f7d4a6e3",
   "metadata": {},
   "outputs": [
    {
     "data": {
      "text/html": [
       "<div>\n",
       "<style scoped>\n",
       "    .dataframe tbody tr th:only-of-type {\n",
       "        vertical-align: middle;\n",
       "    }\n",
       "\n",
       "    .dataframe tbody tr th {\n",
       "        vertical-align: top;\n",
       "    }\n",
       "\n",
       "    .dataframe thead th {\n",
       "        text-align: right;\n",
       "    }\n",
       "</style>\n",
       "<table border=\"1\" class=\"dataframe\">\n",
       "  <thead>\n",
       "    <tr style=\"text-align: right;\">\n",
       "      <th></th>\n",
       "      <th>HeartDisease</th>\n",
       "      <th>BMI</th>\n",
       "      <th>PhysicalHealth</th>\n",
       "      <th>MentalHealth</th>\n",
       "      <th>SleepTime</th>\n",
       "    </tr>\n",
       "  </thead>\n",
       "  <tbody>\n",
       "    <tr>\n",
       "      <th>count</th>\n",
       "      <td>269653.000000</td>\n",
       "      <td>269653.000000</td>\n",
       "      <td>269653.000000</td>\n",
       "      <td>269653.000000</td>\n",
       "      <td>269653.000000</td>\n",
       "    </tr>\n",
       "    <tr>\n",
       "      <th>mean</th>\n",
       "      <td>0.064969</td>\n",
       "      <td>27.754661</td>\n",
       "      <td>2.845535</td>\n",
       "      <td>3.787382</td>\n",
       "      <td>7.096769</td>\n",
       "    </tr>\n",
       "    <tr>\n",
       "      <th>std</th>\n",
       "      <td>0.246471</td>\n",
       "      <td>6.030478</td>\n",
       "      <td>7.261770</td>\n",
       "      <td>7.774713</td>\n",
       "      <td>1.379846</td>\n",
       "    </tr>\n",
       "    <tr>\n",
       "      <th>min</th>\n",
       "      <td>0.000000</td>\n",
       "      <td>12.020000</td>\n",
       "      <td>0.000000</td>\n",
       "      <td>0.000000</td>\n",
       "      <td>1.000000</td>\n",
       "    </tr>\n",
       "    <tr>\n",
       "      <th>25%</th>\n",
       "      <td>0.000000</td>\n",
       "      <td>23.670000</td>\n",
       "      <td>0.000000</td>\n",
       "      <td>0.000000</td>\n",
       "      <td>6.000000</td>\n",
       "    </tr>\n",
       "    <tr>\n",
       "      <th>50%</th>\n",
       "      <td>0.000000</td>\n",
       "      <td>26.630000</td>\n",
       "      <td>0.000000</td>\n",
       "      <td>0.000000</td>\n",
       "      <td>7.000000</td>\n",
       "    </tr>\n",
       "    <tr>\n",
       "      <th>75%</th>\n",
       "      <td>0.000000</td>\n",
       "      <td>30.680000</td>\n",
       "      <td>1.000000</td>\n",
       "      <td>3.000000</td>\n",
       "      <td>8.000000</td>\n",
       "    </tr>\n",
       "    <tr>\n",
       "      <th>max</th>\n",
       "      <td>1.000000</td>\n",
       "      <td>94.850000</td>\n",
       "      <td>30.000000</td>\n",
       "      <td>30.000000</td>\n",
       "      <td>24.000000</td>\n",
       "    </tr>\n",
       "  </tbody>\n",
       "</table>\n",
       "</div>"
      ],
      "text/plain": [
       "        HeartDisease            BMI  PhysicalHealth   MentalHealth  \\\n",
       "count  269653.000000  269653.000000   269653.000000  269653.000000   \n",
       "mean        0.064969      27.754661        2.845535       3.787382   \n",
       "std         0.246471       6.030478        7.261770       7.774713   \n",
       "min         0.000000      12.020000        0.000000       0.000000   \n",
       "25%         0.000000      23.670000        0.000000       0.000000   \n",
       "50%         0.000000      26.630000        0.000000       0.000000   \n",
       "75%         0.000000      30.680000        1.000000       3.000000   \n",
       "max         1.000000      94.850000       30.000000      30.000000   \n",
       "\n",
       "           SleepTime  \n",
       "count  269653.000000  \n",
       "mean        7.096769  \n",
       "std         1.379846  \n",
       "min         1.000000  \n",
       "25%         6.000000  \n",
       "50%         7.000000  \n",
       "75%         8.000000  \n",
       "max        24.000000  "
      ]
     },
     "execution_count": 21,
     "metadata": {},
     "output_type": "execute_result"
    }
   ],
   "source": [
    "non_diabetes.describe()"
   ]
  },
  {
   "cell_type": "code",
   "execution_count": 22,
   "id": "a361496e",
   "metadata": {},
   "outputs": [
    {
     "data": {
      "text/plain": [
       "<AxesSubplot: >"
      ]
     },
     "execution_count": 22,
     "metadata": {},
     "output_type": "execute_result"
    },
    {
     "data": {
      "image/png": "[encoded data removed]",
      "text/plain": [
       "<Figure size 640x480 with 1 Axes>"
      ]
     },
     "metadata": {},
     "output_type": "display_data"
    }
   ],
   "source": [
    "diabetes['HeartDisease'].hist()"
   ]
  },
  {
   "cell_type": "code",
   "execution_count": 23,
   "id": "d1cc0119",
   "metadata": {},
   "outputs": [
    {
     "data": {
      "text/plain": [
       "<AxesSubplot: >"
      ]
     },
     "execution_count": 23,
     "metadata": {},
     "output_type": "execute_result"
    },
    {
     "data": {
      "image/png": "[encoded data removed]",
      "text/plain": [
       "<Figure size 640x480 with 1 Axes>"
      ]
     },
     "metadata": {},
     "output_type": "display_data"
    }
   ],
   "source": [
    "non_diabetes['HeartDisease'].hist()"
   ]
  },
  {
   "cell_type": "code",
   "execution_count": 24,
   "id": "d137624b",
   "metadata": {},
   "outputs": [
    {
     "name": "stdout",
     "output_type": "stream",
     "text": [
      "The percent of people that have diabetes and heart diseases 21.952355276702125\n",
      "The percent of people that don't have diabetes but have heart diseases 6.4968681972757585\n"
     ]
    }
   ],
   "source": [
    "diabetes_heart = diabetes[diabetes['HeartDisease']==1]\n",
    "non_diabetes_heart = non_diabetes[non_diabetes['HeartDisease']==1]\n",
    "percent_diabetes = diabetes_heart.size/ diabetes.size*100\n",
    "percent_non_diabetes = non_diabetes_heart.size / non_diabetes.size*100\n",
    "print('The percent of people that have diabetes and heart diseases',percent_diabetes)\n",
    "print('The percent of people that don\\'t have diabetes but have heart diseases',percent_non_diabetes)"
   ]
  },
  {
   "attachments": {},
   "cell_type": "markdown",
   "id": "6fa769f0",
   "metadata": {},
   "source": [
    "We will assume that the confidence interval is 95 % and then we will start calculating the error"
   ]
  },
  {
   "cell_type": "code",
   "execution_count": 25,
   "id": "df583c52",
   "metadata": {},
   "outputs": [
    {
     "name": "stdout",
     "output_type": "stream",
     "text": [
      "0.0009466836515954478\n"
     ]
    }
   ],
   "source": [
    "n = diabetes.size\n",
    "z95 = 1.96\n",
    "error_diabetes_heart = diabetes_stdev / np.sqrt(n) * z95\n",
    "print(error_diabetes_heart)"
   ]
  },
  {
   "cell_type": "code",
   "execution_count": null,
   "id": "440e82ce",
   "metadata": {},
   "outputs": [],
   "source": []
  }
 ],
 "metadata": {
  "kernelspec": {
   "display_name": "Python 3",
   "language": "python",
   "name": "python3"
  },
  "language_info": {
   "codemirror_mode": {
    "name": "ipython",
    "version": 3
   },
   "file_extension": ".py",
   "mimetype": "text/x-python",
   "name": "python",
   "nbconvert_exporter": "python",
   "pygments_lexer": "ipython3",
   "version": "3.10.7"
  },
  "vscode": {
   "interpreter": {
    "hash": "3bd8617b38ef4fa5b1c1552c94826c5d43d8082c101bf117576360b493384e0f"
   }
  }
 },
 "nbformat": 4,
 "nbformat_minor": 5
}
