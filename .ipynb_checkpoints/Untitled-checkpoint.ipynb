{
 "cells": [
  {
   "cell_type": "code",
   "execution_count": 2,
   "id": "00b82428",
   "metadata": {},
   "outputs": [
    {
     "name": "stdout",
     "output_type": "stream",
     "text": [
      "   id    age  gender  height  weight  ap_hi  ap_lo  cholesterol  gluc  smoke  \\\n",
      "0   0  18393       2     168    62.0    110     80            1     1      0   \n",
      "1   1  20228       1     156    85.0    140     90            3     1      0   \n",
      "2   2  18857       1     165    64.0    130     70            3     1      0   \n",
      "3   3  17623       2     169    82.0    150    100            1     1      0   \n",
      "4   4  17474       1     156    56.0    100     60            1     1      0   \n",
      "\n",
      "   alco  active  cardio  \n",
      "0     0       1       0  \n",
      "1     0       1       1  \n",
      "2     0       0       1  \n",
      "3     0       1       1  \n",
      "4     0       0       0  \n",
      "The average age of smokers  52.30366281251596\n",
      "The most repeated age of smokers  55.85205479452055\n"
     ]
    }
   ],
   "source": [
    "    import pandas as pd\n",
    "    \n",
    "    cardio_data = pd.read_csv('cardio_train.csv', sep=';')\n",
    "    print(cardio_data.head())\n",
    "    smokers = cardio_data[cardio_data['smoke'] == 1]\n",
    "    average_age = smokers['age'].mean()\n",
    "    mode_age = smokers['age'].mode()[0]\n",
    "    print('The average age of smokers ', average_age / 365)\n",
    "    print('The most repeated age of smokers ', mode_age / 365)"
   ]
  },
  {
   "cell_type": "code",
   "execution_count": null,
   "id": "cc7922cd",
   "metadata": {},
   "outputs": [],
   "source": []
  }
 ],
 "metadata": {
  "kernelspec": {
   "display_name": "Python 3 (ipykernel)",
   "language": "python",
   "name": "python3"
  },
  "language_info": {
   "codemirror_mode": {
    "name": "ipython",
    "version": 3
   },
   "file_extension": ".py",
   "mimetype": "text/x-python",
   "name": "python",
   "nbconvert_exporter": "python",
   "pygments_lexer": "ipython3",
   "version": "3.10.7"
  }
 },
 "nbformat": 4,
 "nbformat_minor": 5
}
