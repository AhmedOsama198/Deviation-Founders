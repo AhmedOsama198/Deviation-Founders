{
 "cells": [
  {
   "attachments": {},
   "cell_type": "markdown",
   "metadata": {},
   "source": [
    "import the needed libiraries"
   ]
  },
  {
   "cell_type": "code",
   "execution_count": 328,
   "metadata": {},
   "outputs": [],
   "source": [
    "import pandas as pd\n",
    "import numpy as np\n",
    "import matplotlib.pyplot as plt\n",
    "import seaborn as sns\n",
    "import scipy\n",
    "from scipy import stats"
   ]
  },
  {
   "attachments": {},
   "cell_type": "markdown",
   "metadata": {},
   "source": [
    "read the file and give it a name"
   ]
  },
  {
   "cell_type": "code",
   "execution_count": 329,
   "metadata": {},
   "outputs": [],
   "source": [
    "url = \"C:\\\\Users\\\\AOZ\\\\Desktop\\\\Statistics Project\\\\heart_data.csv\"\n",
    "df = pd.read_csv(url)"
   ]
  },
  {
   "attachments": {},
   "cell_type": "markdown",
   "metadata": {},
   "source": [
    "show info about all col"
   ]
  },
  {
   "cell_type": "code",
   "execution_count": 330,
   "metadata": {},
   "outputs": [
    {
     "name": "stdout",
     "output_type": "stream",
     "text": [
      "<class 'pandas.core.series.Series'>\n",
      "RangeIndex: 319795 entries, 0 to 319794\n",
      "Series name: BMI\n",
      "Non-Null Count   Dtype  \n",
      "--------------   -----  \n",
      "319795 non-null  float64\n",
      "dtypes: float64(1)\n",
      "memory usage: 2.4 MB\n"
     ]
    }
   ],
   "source": [
    "df['BMI'].info()"
   ]
  },
  {
   "attachments": {},
   "cell_type": "markdown",
   "metadata": {},
   "source": [
    "descriptive stat of BMI"
   ]
  },
  {
   "cell_type": "code",
   "execution_count": 331,
   "metadata": {},
   "outputs": [
    {
     "data": {
      "text/plain": [
       "count    319795.000000\n",
       "mean         28.325399\n",
       "std           6.356100\n",
       "min          12.020000\n",
       "25%          24.030000\n",
       "50%          27.340000\n",
       "75%          31.420000\n",
       "max          94.850000\n",
       "Name: BMI, dtype: float64"
      ]
     },
     "execution_count": 331,
     "metadata": {},
     "output_type": "execute_result"
    }
   ],
   "source": [
    "df['BMI'].describe(include=\"all\")"
   ]
  },
  {
   "attachments": {},
   "cell_type": "markdown",
   "metadata": {},
   "source": [
    "median"
   ]
  },
  {
   "cell_type": "code",
   "execution_count": 332,
   "metadata": {},
   "outputs": [
    {
     "data": {
      "text/plain": [
       "27.34"
      ]
     },
     "execution_count": 332,
     "metadata": {},
     "output_type": "execute_result"
    }
   ],
   "source": [
    "df['BMI'].median()\n"
   ]
  },
  {
   "attachments": {},
   "cell_type": "markdown",
   "metadata": {},
   "source": [
    "boxplot of BMI"
   ]
  },
  {
   "cell_type": "code",
   "execution_count": 334,
   "metadata": {},
   "outputs": [
    {
     "data": {
      "image/png": "[encoded data removed]",
      "text/plain": [
       "<Figure size 640x480 with 1 Axes>"
      ]
     },
     "metadata": {},
     "output_type": "display_data"
    }
   ],
   "source": [
    "plt.boxplot(df['BMI'])\n",
    "plt.show()"
   ]
  },
  {
   "attachments": {},
   "cell_type": "markdown",
   "metadata": {},
   "source": [
    "taking out the outliers"
   ]
  },
  {
   "cell_type": "code",
   "execution_count": 335,
   "metadata": {},
   "outputs": [
    {
     "data": {
      "text/plain": [
       "(31.42, 24.03)"
      ]
     },
     "execution_count": 335,
     "metadata": {},
     "output_type": "execute_result"
    }
   ],
   "source": [
    "q75,q25=np.percentile(df['BMI'],[75,25])\n",
    "q75,q25"
   ]
  },
  {
   "cell_type": "code",
   "execution_count": 349,
   "metadata": {},
   "outputs": [],
   "source": [
    "IQR=q75-q25"
   ]
  },
  {
   "cell_type": "code",
   "execution_count": 337,
   "metadata": {},
   "outputs": [],
   "source": [
    "df = df.loc[df['BMI'] > (q25 - 1.5 * IQR)]\n",
    "df = df.loc[df['BMI'] < (q75 + 1.5 * IQR)]"
   ]
  },
  {
   "attachments": {},
   "cell_type": "markdown",
   "metadata": {},
   "source": [
    "mean of BMI of people having heart disease"
   ]
  },
  {
   "cell_type": "code",
   "execution_count": 339,
   "metadata": {},
   "outputs": [
    {
     "data": {
      "text/plain": [
       "28.574460099274535"
      ]
     },
     "execution_count": 339,
     "metadata": {},
     "output_type": "execute_result"
    }
   ],
   "source": [
    "df[df['HeartDisease'] == 'Yes']['BMI'].mean()\n"
   ]
  },
  {
   "attachments": {},
   "cell_type": "markdown",
   "metadata": {},
   "source": [
    "percentage and plot of people having heart disease with bmi between 10 and 20"
   ]
  },
  {
   "cell_type": "code",
   "execution_count": 340,
   "metadata": {},
   "outputs": [
    {
     "name": "stdout",
     "output_type": "stream",
     "text": [
      "6.544288248942268\n"
     ]
    }
   ],
   "source": [
    "bmi = df[df['BMI'] <= 20]\n",
    "bmiy = bmi[bmi['HeartDisease']== 'Yes']\n",
    "percent_of_y_bmi1020 =  bmiy.size/bmi.size*100\n",
    "print(percent_of_y_bmi1020)"
   ]
  },
  {
   "cell_type": "code",
   "execution_count": 341,
   "metadata": {},
   "outputs": [
    {
     "name": "stderr",
     "output_type": "stream",
     "text": [
      "C:\\Users\\AOZ\\AppData\\Local\\Temp\\ipykernel_50748\\2261961746.py:1: UserWarning: Boolean Series key will be reindexed to match DataFrame index.\n",
      "  plt.hist(df[df['BMI'] <= 20][df['BMI']>=10]['HeartDisease'])\n"
     ]
    },
    {
     "data": {
      "image/png": "[encoded data removed]",
      "text/plain": [
       "<Figure size 640x480 with 1 Axes>"
      ]
     },
     "metadata": {},
     "output_type": "display_data"
    }
   ],
   "source": [
    "plt.hist(df[df['BMI'] <= 20][df['BMI']>=10]['HeartDisease'])\n",
    "plt.show()"
   ]
  },
  {
   "attachments": {},
   "cell_type": "markdown",
   "metadata": {},
   "source": [
    "percentage and plot of people having heart disease with bmi between 20 and 30"
   ]
  },
  {
   "cell_type": "code",
   "execution_count": 342,
   "metadata": {},
   "outputs": [
    {
     "name": "stdout",
     "output_type": "stream",
     "text": [
      "7.785808795939728\n"
     ]
    },
    {
     "name": "stderr",
     "output_type": "stream",
     "text": [
      "C:\\Users\\AOZ\\AppData\\Local\\Temp\\ipykernel_50748\\3236808134.py:1: UserWarning: Boolean Series key will be reindexed to match DataFrame index.\n",
      "  bmi = df[df['BMI'] <= 30][df['BMI'] > 20]\n"
     ]
    }
   ],
   "source": [
    "bmi = df[df['BMI'] <= 30][df['BMI'] > 20]\n",
    "bmiy = bmi[bmi['HeartDisease']== 'Yes']\n",
    "percent_of_y_bmi2030 =  bmiy.size/bmi.size*100\n",
    "print(percent_of_y_bmi2030)"
   ]
  },
  {
   "cell_type": "code",
   "execution_count": 343,
   "metadata": {},
   "outputs": [
    {
     "name": "stderr",
     "output_type": "stream",
     "text": [
      "C:\\Users\\AOZ\\AppData\\Local\\Temp\\ipykernel_50748\\3412363346.py:1: UserWarning: Boolean Series key will be reindexed to match DataFrame index.\n",
      "  plt.hist(df[df['BMI'] <= 30][df['BMI']>=20]['HeartDisease'])\n"
     ]
    },
    {
     "data": {
      "image/png": "[encoded data removed]",
      "text/plain": [
       "<Figure size 640x480 with 1 Axes>"
      ]
     },
     "metadata": {},
     "output_type": "display_data"
    }
   ],
   "source": [
    "plt.hist(df[df['BMI'] <= 30][df['BMI']>=20]['HeartDisease'])\n",
    "plt.show()"
   ]
  },
  {
   "attachments": {},
   "cell_type": "markdown",
   "metadata": {},
   "source": [
    "percentage and plot of people having heart disease with bmi between 30 and 40"
   ]
  },
  {
   "cell_type": "code",
   "execution_count": 344,
   "metadata": {},
   "outputs": [
    {
     "name": "stdout",
     "output_type": "stream",
     "text": [
      "10.242697046335183\n"
     ]
    },
    {
     "name": "stderr",
     "output_type": "stream",
     "text": [
      "C:\\Users\\AOZ\\AppData\\Local\\Temp\\ipykernel_50748\\1193710883.py:1: UserWarning: Boolean Series key will be reindexed to match DataFrame index.\n",
      "  bmi = df[df['BMI'] <= 40][df['BMI'] > 30]\n"
     ]
    }
   ],
   "source": [
    "bmi = df[df['BMI'] <= 40][df['BMI'] > 30]\n",
    "bmiy = bmi[bmi['HeartDisease']== 'Yes']\n",
    "percent_of_y_bmi3040 =  bmiy.size/bmi.size*100\n",
    "print(percent_of_y_bmi3040)"
   ]
  },
  {
   "cell_type": "code",
   "execution_count": 345,
   "metadata": {},
   "outputs": [
    {
     "name": "stderr",
     "output_type": "stream",
     "text": [
      "C:\\Users\\AOZ\\AppData\\Local\\Temp\\ipykernel_50748\\1118371564.py:1: UserWarning: Boolean Series key will be reindexed to match DataFrame index.\n",
      "  plt.hist(df[df['BMI'] <= 40][df['BMI']>=30]['HeartDisease'])\n"
     ]
    },
    {
     "data": {
      "image/png": "[encoded data removed]",
      "text/plain": [
       "<Figure size 640x480 with 1 Axes>"
      ]
     },
     "metadata": {},
     "output_type": "display_data"
    }
   ],
   "source": [
    "plt.hist(df[df['BMI'] <= 40][df['BMI']>=30]['HeartDisease'])\n",
    "plt.show()"
   ]
  },
  {
   "attachments": {},
   "cell_type": "markdown",
   "metadata": {},
   "source": [
    "percentage and plot of people having heart disease with bmi between 40 and 50"
   ]
  },
  {
   "cell_type": "code",
   "execution_count": 346,
   "metadata": {},
   "outputs": [
    {
     "name": "stdout",
     "output_type": "stream",
     "text": [
      "10.535089181530255\n"
     ]
    }
   ],
   "source": [
    "bmi = df[df['BMI'] <= 50][df['BMI'] > 40]\n",
    "bmiy = bmi[bmi['HeartDisease']== 'Yes']\n",
    "percent_of_y_bmi4050 =  bmiy.size/bmi.size*100\n",
    "print(percent_of_y_bmi4050)"
   ]
  },
  {
   "cell_type": "code",
   "execution_count": 347,
   "metadata": {},
   "outputs": [
    {
     "data": {
      "image/png": "[encoded data removed]",
      "text/plain": [
       "<Figure size 640x480 with 1 Axes>"
      ]
     },
     "metadata": {},
     "output_type": "display_data"
    }
   ],
   "source": [
    "plt.hist(df[df['BMI'] <= 50][df['BMI']>=40]['HeartDisease'])\n",
    "plt.show()"
   ]
  },
  {
   "attachments": {},
   "cell_type": "markdown",
   "metadata": {},
   "source": [
    "corr between BMI and heart disease and plot between diffrent bmi levels and percentage of people having heart disease in it"
   ]
  },
  {
   "cell_type": "code",
   "execution_count": 348,
   "metadata": {},
   "outputs": [
    {
     "name": "stdout",
     "output_type": "stream",
     "text": [
      "corr = 0.9638133142871304\n"
     ]
    },
    {
     "data": {
      "image/png": "[encoded data removed]",
      "text/plain": [
       "<Figure size 640x480 with 1 Axes>"
      ]
     },
     "metadata": {},
     "output_type": "display_data"
    }
   ],
   "source": [
    "x = np.array(['10-20','20-30','30-40','40-50'])\n",
    "xtemp = np.array([1,2,3,4])\n",
    "y = np.array([percent_of_y_bmi1020,percent_of_y_bmi2030,percent_of_y_bmi3040,percent_of_y_bmi4050])\n",
    "a, b = np.polyfit(xtemp, y, 1)\n",
    "plt.scatter(x, y)\n",
    "plt.plot(x, a*xtemp+b)\n",
    "\n",
    "print(\"corr = \"+ str(np.corrcoef(xtemp,y)[0][1]))"
   ]
  }
 ],
 "metadata": {
  "kernelspec": {
   "display_name": "Python 3",
   "language": "python",
   "name": "python3"
  },
  "language_info": {
   "codemirror_mode": {
    "name": "ipython",
    "version": 3
   },
   "file_extension": ".py",
   "mimetype": "text/x-python",
   "name": "python",
   "nbconvert_exporter": "python",
   "pygments_lexer": "ipython3",
   "version": "3.10.8"
  },
  "orig_nbformat": 4,
  "vscode": {
   "interpreter": {
    "hash": "05c317967a6bcc6983b33dfc32d6a00017438325114854c9651b783a874b92d3"
   }
  }
 },
 "nbformat": 4,
 "nbformat_minor": 2
}
